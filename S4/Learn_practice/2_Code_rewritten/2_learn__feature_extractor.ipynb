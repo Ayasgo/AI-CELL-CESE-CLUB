{
 "cells": [
  {
   "cell_type": "code",
   "execution_count": 3,
   "metadata": {},
   "outputs": [],
   "source": [
    "# Importing the data.json using json\n",
    "import json\n",
    "\n",
    "with open('data.json', 'r') as file:\n",
    "    data = json.load(file)"
   ]
  },
  {
   "cell_type": "code",
   "execution_count": 4,
   "metadata": {},
   "outputs": [],
   "source": [
    "# Feature extraction functions\n",
    "def get_nbr_of_lines(drawing):\n",
    "    return len(drawing)\n",
    "\n",
    "def get_nbr_of_points(drawing):\n",
    "    s = 0\n",
    "    for line in drawing:\n",
    "        s+= len(line)\n",
    "        \n",
    "    return s"
   ]
  },
  {
   "cell_type": "code",
   "execution_count": 7,
   "metadata": {},
   "outputs": [],
   "source": [
    "# Extracting the features\n",
    "new_data = []\n",
    "\n",
    "# Titles\n",
    "row0 = ['n_lines', 'n_points', 'class_name']\n",
    "new_data.append(row0)\n",
    "\n",
    "for class_name, drawings in data.items():\n",
    "\n",
    "    for drawing in drawings:\n",
    "        # Features\n",
    "        n_lines = get_nbr_of_lines(drawing)\n",
    "        n_points = get_nbr_of_points(drawing)\n",
    "\n",
    "        row = [ n_lines, n_points, class_name[:-1] ]\n",
    "        new_data.append(row)"
   ]
  },
  {
   "cell_type": "code",
   "execution_count": 8,
   "metadata": {},
   "outputs": [],
   "source": [
    "# Saving the data into a csv file\n",
    "import csv\n",
    "\n",
    "with open('new_data.csv', 'w', newline='') as file:\n",
    "    writer = csv.writer(file)\n",
    "    writer.writerows(new_data)"
   ]
  }
 ],
 "metadata": {
  "kernelspec": {
   "display_name": "Python 3",
   "language": "python",
   "name": "python3"
  },
  "language_info": {
   "codemirror_mode": {
    "name": "ipython",
    "version": 3
   },
   "file_extension": ".py",
   "mimetype": "text/x-python",
   "name": "python",
   "nbconvert_exporter": "python",
   "pygments_lexer": "ipython3",
   "version": "3.11.0"
  }
 },
 "nbformat": 4,
 "nbformat_minor": 2
}
