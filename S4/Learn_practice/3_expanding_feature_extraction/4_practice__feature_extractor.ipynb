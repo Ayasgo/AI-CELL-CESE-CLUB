{
 "cells": [
  {
   "cell_type": "code",
   "execution_count": 3,
   "metadata": {},
   "outputs": [],
   "source": [
    "# Import the data.json using json library\n",
    "..."
   ]
  },
  {
   "cell_type": "code",
   "execution_count": 4,
   "metadata": {},
   "outputs": [],
   "source": [
    "# Feature extraction functions\n",
    "def get_nbr_of_lines(drawing):\n",
    "    ...\n",
    "\n",
    "def get_nbr_of_points(drawing):\n",
    "    ...\n",
    "\n",
    "def get_height( drawing ):\n",
    "    ...\n",
    "\n",
    "def get_width( drawing ):\n",
    "    ..."
   ]
  },
  {
   "cell_type": "code",
   "execution_count": 7,
   "metadata": {},
   "outputs": [],
   "source": [
    "# extracting the features\n",
    "new_data = []\n",
    "row0 = ['n_lines', 'n_points', 'width', 'height' ,'class_name']\n",
    "new_data.append(row0)\n",
    "\n",
    "..."
   ]
  },
  {
   "cell_type": "code",
   "execution_count": 8,
   "metadata": {},
   "outputs": [],
   "source": [
    "# Saving the new_data list into a csv file named new_data.csv\n",
    "..."
   ]
  }
 ],
 "metadata": {
  "kernelspec": {
   "display_name": "Python 3",
   "language": "python",
   "name": "python3"
  },
  "language_info": {
   "codemirror_mode": {
    "name": "ipython",
    "version": 3
   },
   "file_extension": ".py",
   "mimetype": "text/x-python",
   "name": "python",
   "nbconvert_exporter": "python",
   "pygments_lexer": "ipython3",
   "version": "3.11.0"
  }
 },
 "nbformat": 4,
 "nbformat_minor": 2
}
