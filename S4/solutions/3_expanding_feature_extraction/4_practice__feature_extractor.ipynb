{
 "cells": [
  {
   "cell_type": "code",
   "execution_count": 3,
   "metadata": {},
   "outputs": [],
   "source": [
    "# Import the data.json using json library\n",
    "import json\n",
    "\n",
    "with open('data.json', 'r') as file:\n",
    "    data = json.load(file)"
   ]
  },
  {
   "cell_type": "code",
   "execution_count": 4,
   "metadata": {},
   "outputs": [],
   "source": [
    "# Feature extraction functions\n",
    "def get_nbr_of_lines(drawing):\n",
    "    return len(drawing)\n",
    "\n",
    "def get_nbr_of_points(drawing):\n",
    "    s = 0\n",
    "    for line in drawing:\n",
    "        s+= len(line)\n",
    "        \n",
    "    return s\n",
    "\n",
    "def get_height( drawing ):\n",
    "    Y = []\n",
    "    for line in drawing:\n",
    "        for point in line:\n",
    "            Y.append(point[1])\n",
    "    \n",
    "    return max(Y) - min(Y)\n",
    "\n",
    "def get_width( drawing ):\n",
    "    X = []\n",
    "    for line in drawing:\n",
    "        for point in line:\n",
    "            X.append(point[0])\n",
    "    \n",
    "    return max(X) - min(X)"
   ]
  },
  {
   "cell_type": "code",
   "execution_count": 7,
   "metadata": {},
   "outputs": [],
   "source": [
    "# extracting the features\n",
    "new_data = []\n",
    "row0 = ['n_lines', 'n_points', 'width', 'height' ,'class_name']\n",
    "new_data.append(row0)\n",
    "\n",
    "for class_name, drawings in data.items():\n",
    "    for drawing in drawings:\n",
    "\n",
    "        # features\n",
    "        n_lines = get_nbr_of_lines(drawing)\n",
    "        n_points = get_nbr_of_points(drawing)\n",
    "        width = get_width(drawing)\n",
    "        height = get_height(drawing)\n",
    "        \n",
    "        row = [ n_lines, n_points, width, height, class_name[:-1]]\n",
    "        new_data.append(row)"
   ]
  },
  {
   "cell_type": "code",
   "execution_count": 8,
   "metadata": {},
   "outputs": [],
   "source": [
    "# Saving the new_data list into a csv file named new_data.csv\n",
    "import csv\n",
    "\n",
    "with open('new_data.csv', 'w', newline='') as file:\n",
    "    writer = csv.writer(file)\n",
    "    writer.writerows(new_data)"
   ]
  }
 ],
 "metadata": {
  "kernelspec": {
   "display_name": "Python 3",
   "language": "python",
   "name": "python3"
  },
  "language_info": {
   "codemirror_mode": {
    "name": "ipython",
    "version": 3
   },
   "file_extension": ".py",
   "mimetype": "text/x-python",
   "name": "python",
   "nbconvert_exporter": "python",
   "pygments_lexer": "ipython3",
   "version": "3.11.0"
  }
 },
 "nbformat": 4,
 "nbformat_minor": 2
}
